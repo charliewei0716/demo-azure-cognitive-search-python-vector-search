{
  "nbformat": 4,
  "nbformat_minor": 0,
  "metadata": {
    "colab": {
      "provenance": [],
      "authorship_tag": "ABX9TyPRO1qpul3X3butcY4AykLL",
      "include_colab_link": true
    },
    "kernelspec": {
      "name": "python3",
      "display_name": "Python 3"
    },
    "language_info": {
      "name": "python"
    }
  },
  "cells": [
    {
      "cell_type": "markdown",
      "metadata": {
        "id": "view-in-github",
        "colab_type": "text"
      },
      "source": [
        "<a href=\"https://colab.research.google.com/github/charliewei0716/demo-azure-cognitive-search-python-vector-search/blob/main/demo-azure-cognitive-search-python-vector-search.ipynb\" target=\"_parent\"><img src=\"https://colab.research.google.com/assets/colab-badge.svg\" alt=\"Open In Colab\"/></a>"
      ]
    },
    {
      "cell_type": "code",
      "source": [
        "%pip install azure-search-documents==11.4.0b11"
      ],
      "metadata": {
        "id": "Q1UyokEgk9Vx",
        "colab": {
          "base_uri": "https://localhost:8080/"
        },
        "outputId": "3957171d-fca5-4a63-b768-f44737e8f40e"
      },
      "execution_count": 1,
      "outputs": [
        {
          "output_type": "stream",
          "name": "stdout",
          "text": [
            "Collecting azure-search-documents==11.4.0b11\n",
            "  Downloading azure_search_documents-11.4.0b11-py3-none-any.whl (312 kB)\n",
            "\u001b[2K     \u001b[90m━━━━━━━━━━━━━━━━━━━━━━━━━━━━━━━━━━━━━━━━\u001b[0m \u001b[32m312.5/312.5 kB\u001b[0m \u001b[31m5.6 MB/s\u001b[0m eta \u001b[36m0:00:00\u001b[0m\n",
            "\u001b[?25hCollecting azure-core<2.0.0,>=1.24.0 (from azure-search-documents==11.4.0b11)\n",
            "  Downloading azure_core-1.29.5-py3-none-any.whl (192 kB)\n",
            "\u001b[2K     \u001b[90m━━━━━━━━━━━━━━━━━━━━━━━━━━━━━━━━━━━━━━━━\u001b[0m \u001b[32m192.4/192.4 kB\u001b[0m \u001b[31m23.1 MB/s\u001b[0m eta \u001b[36m0:00:00\u001b[0m\n",
            "\u001b[?25hCollecting azure-common~=1.1 (from azure-search-documents==11.4.0b11)\n",
            "  Downloading azure_common-1.1.28-py2.py3-none-any.whl (14 kB)\n",
            "Collecting isodate>=0.6.0 (from azure-search-documents==11.4.0b11)\n",
            "  Downloading isodate-0.6.1-py2.py3-none-any.whl (41 kB)\n",
            "\u001b[2K     \u001b[90m━━━━━━━━━━━━━━━━━━━━━━━━━━━━━━━━━━━━━━━━\u001b[0m \u001b[32m41.7/41.7 kB\u001b[0m \u001b[31m5.8 MB/s\u001b[0m eta \u001b[36m0:00:00\u001b[0m\n",
            "\u001b[?25hRequirement already satisfied: requests>=2.18.4 in /usr/local/lib/python3.10/dist-packages (from azure-core<2.0.0,>=1.24.0->azure-search-documents==11.4.0b11) (2.31.0)\n",
            "Requirement already satisfied: six>=1.11.0 in /usr/local/lib/python3.10/dist-packages (from azure-core<2.0.0,>=1.24.0->azure-search-documents==11.4.0b11) (1.16.0)\n",
            "Collecting typing-extensions>=4.6.0 (from azure-core<2.0.0,>=1.24.0->azure-search-documents==11.4.0b11)\n",
            "  Downloading typing_extensions-4.8.0-py3-none-any.whl (31 kB)\n",
            "Requirement already satisfied: charset-normalizer<4,>=2 in /usr/local/lib/python3.10/dist-packages (from requests>=2.18.4->azure-core<2.0.0,>=1.24.0->azure-search-documents==11.4.0b11) (3.3.1)\n",
            "Requirement already satisfied: idna<4,>=2.5 in /usr/local/lib/python3.10/dist-packages (from requests>=2.18.4->azure-core<2.0.0,>=1.24.0->azure-search-documents==11.4.0b11) (3.4)\n",
            "Requirement already satisfied: urllib3<3,>=1.21.1 in /usr/local/lib/python3.10/dist-packages (from requests>=2.18.4->azure-core<2.0.0,>=1.24.0->azure-search-documents==11.4.0b11) (2.0.7)\n",
            "Requirement already satisfied: certifi>=2017.4.17 in /usr/local/lib/python3.10/dist-packages (from requests>=2.18.4->azure-core<2.0.0,>=1.24.0->azure-search-documents==11.4.0b11) (2023.7.22)\n",
            "Installing collected packages: azure-common, typing-extensions, isodate, azure-core, azure-search-documents\n",
            "  Attempting uninstall: typing-extensions\n",
            "    Found existing installation: typing_extensions 4.5.0\n",
            "    Uninstalling typing_extensions-4.5.0:\n",
            "      Successfully uninstalled typing_extensions-4.5.0\n",
            "\u001b[31mERROR: pip's dependency resolver does not currently take into account all the packages that are installed. This behaviour is the source of the following dependency conflicts.\n",
            "tensorflow-probability 0.22.0 requires typing-extensions<4.6.0, but you have typing-extensions 4.8.0 which is incompatible.\u001b[0m\u001b[31m\n",
            "\u001b[0mSuccessfully installed azure-common-1.1.28 azure-core-1.29.5 azure-search-documents-11.4.0b11 isodate-0.6.1 typing-extensions-4.8.0\n"
          ]
        }
      ]
    },
    {
      "cell_type": "code",
      "source": [
        "from azure.search.documents.indexes import SearchIndexClient\n",
        "from azure.core.credentials import AzureKeyCredential\n",
        "\n",
        "search_index_client = SearchIndexClient(\n",
        "    endpoint=\"https://charlie-test.search.windows.net\",\n",
        "    credential=AzureKeyCredential(\"YOUR-SEARCH-API-KEY\") # 你的 Cognitive Search 金鑰\n",
        ")"
      ],
      "metadata": {
        "id": "o4fkcHiI1-u8"
      },
      "execution_count": 2,
      "outputs": []
    },
    {
      "cell_type": "code",
      "source": [
        "from azure.search.documents.indexes.models import SimpleField, SearchableField, SearchFieldDataType, SearchField\n",
        "fields = [\n",
        "    SimpleField(name=\"id\", type=SearchFieldDataType.String, key=True, sortable=True, filterable=True, facetable=True),\n",
        "    SearchableField(name=\"title\", type=SearchFieldDataType.String),\n",
        "    SearchableField(name=\"content\", type=SearchFieldDataType.String),\n",
        "    SearchableField(name=\"category\", type=SearchFieldDataType.String, filterable=True),\n",
        "    SearchField(name=\"titleVector\", type=SearchFieldDataType.Collection(SearchFieldDataType.Single), vector_search_dimensions=1536, vector_search_profile=\"HnswProfile\"),\n",
        "    SearchField(name=\"contentVector\", type=SearchFieldDataType.Collection(SearchFieldDataType.Single), vector_search_dimensions=1536, vector_search_profile=\"HnswProfile\"),\n",
        "]"
      ],
      "metadata": {
        "id": "lPISSdrs1iU6"
      },
      "execution_count": 3,
      "outputs": []
    },
    {
      "cell_type": "code",
      "source": [
        "from azure.search.documents.indexes.models import (\n",
        "    HnswVectorSearchAlgorithmConfiguration, VectorSearchAlgorithmKind, HnswParameters, ExhaustiveKnnVectorSearchAlgorithmConfiguration, ExhaustiveKnnParameters\n",
        ")\n",
        "algorithms=[\n",
        "    HnswVectorSearchAlgorithmConfiguration(\n",
        "        name=\"Hnsw\",\n",
        "        kind=VectorSearchAlgorithmKind.HNSW,\n",
        "        parameters=HnswParameters(\n",
        "            m=4,\n",
        "            ef_construction=400,\n",
        "            ef_search=500,\n",
        "            metric=\"cosine\",\n",
        "        )\n",
        "    ),\n",
        "    ExhaustiveKnnVectorSearchAlgorithmConfiguration(\n",
        "        name=\"ExhaustiveKnn\",\n",
        "        kind=VectorSearchAlgorithmKind.EXHAUSTIVE_KNN,\n",
        "        parameters=ExhaustiveKnnParameters(\n",
        "            metric=\"cosine\",\n",
        "        )\n",
        "    )\n",
        "]"
      ],
      "metadata": {
        "id": "y3tFwExSXq9-"
      },
      "execution_count": 4,
      "outputs": []
    },
    {
      "cell_type": "code",
      "source": [
        "from azure.search.documents.indexes.models import AzureOpenAIVectorizer, AzureOpenAIParameters\n",
        "vectorizers=[\n",
        "    AzureOpenAIVectorizer(\n",
        "        name=\"AzureOpenAI\",\n",
        "        kind=\"azureOpenAI\",\n",
        "        azure_open_ai_parameters=AzureOpenAIParameters(\n",
        "            resource_uri=\"https://charlie-oai.openai.azure.com/\",\n",
        "            deployment_id=\"text-embedding-ada-002\",\n",
        "            api_key=\"OPENAI_API_KEY\" # 你的 Azure OpenAI 金鑰\n",
        "        )\n",
        "    )\n",
        "]"
      ],
      "metadata": {
        "id": "yl4JLBl_eOL2"
      },
      "execution_count": 5,
      "outputs": []
    },
    {
      "cell_type": "code",
      "source": [
        "from azure.search.documents.indexes.models import VectorSearchProfile\n",
        "profiles=[\n",
        "    VectorSearchProfile(\n",
        "        name=\"HnswProfile\",\n",
        "        algorithm=\"Hnsw\",\n",
        "        vectorizer=\"AzureOpenAI\"\n",
        "    ),\n",
        "    VectorSearchProfile(\n",
        "        name=\"ExhaustiveKnnProfile\",\n",
        "        algorithm=\"ExhaustiveKnn\",\n",
        "        vectorizer=\"AzureOpenAI\"\n",
        "    )\n",
        "]"
      ],
      "metadata": {
        "id": "FfjJnQbMfxEe"
      },
      "execution_count": 6,
      "outputs": []
    },
    {
      "cell_type": "code",
      "source": [
        "from azure.search.documents.indexes.models import VectorSearch, SearchIndex\n",
        "\n",
        "vector_search = VectorSearch(profiles=profiles, algorithms=algorithms, vectorizers=vectorizers)\n",
        "index = SearchIndex(name=\"text-sample-vertor\", fields=fields, vector_search=vector_search)\n",
        "result = search_index_client.create_or_update_index(index)\n",
        "print(f' {result.name} created')"
      ],
      "metadata": {
        "colab": {
          "base_uri": "https://localhost:8080/"
        },
        "id": "Kle3KcS_3l7j",
        "outputId": "3478a62f-0541-4189-dcfc-9031632be58e"
      },
      "execution_count": 7,
      "outputs": [
        {
          "output_type": "stream",
          "name": "stdout",
          "text": [
            " text-sample-vertor created\n"
          ]
        }
      ]
    },
    {
      "cell_type": "code",
      "source": [
        "import json\n",
        "from azure.search.documents import SearchClient\n",
        "from azure.core.credentials import AzureKeyCredential\n",
        "\n",
        "with open('docVectors.json', 'r') as file:\n",
        "    documents = json.load(file)\n",
        "\n",
        "search_client = SearchClient(\n",
        "    endpoint=\"https://charlie-test.search.windows.net\",\n",
        "    index_name=\"text-sample-vertor\",\n",
        "    credential=AzureKeyCredential(\"YOUR-SEARCH-API-KEY\") # 你的 Cognitive Search 金鑰\n",
        ")\n",
        "result = search_client.upload_documents(documents)\n",
        "print(f\"Uploaded {len(documents)} documents\")"
      ],
      "metadata": {
        "colab": {
          "base_uri": "https://localhost:8080/"
        },
        "id": "L_7gnl_Ceb-p",
        "outputId": "9c8c15bf-96cf-40b6-e3bb-51ff5935fa76"
      },
      "execution_count": 10,
      "outputs": [
        {
          "output_type": "stream",
          "name": "stdout",
          "text": [
            "Uploaded 108 documents\n"
          ]
        }
      ]
    },
    {
      "cell_type": "code",
      "source": [
        "from azure.search.documents import SearchClient\n",
        "from azure.core.credentials import AzureKeyCredential\n",
        "\n",
        "search_client = SearchClient(\n",
        "    endpoint=\"https://charlie-test.search.windows.net\",\n",
        "    index_name=\"text-sample-vertor\",\n",
        "    credential=AzureKeyCredential(\"YOUR-SEARCH-API-KEY\") # 你的 Cognitive Search 金鑰\n",
        ")"
      ],
      "metadata": {
        "id": "FQpycNaILnwk"
      },
      "execution_count": 11,
      "outputs": []
    },
    {
      "cell_type": "code",
      "source": [
        "from azure.search.documents.models import VectorizableTextQuery\n",
        "\n",
        "query = \"tools for software development\"\n",
        "vector_query = VectorizableTextQuery(text=query, k=3, fields=\"contentVector\")\n",
        "\n",
        "results = search_client.search(\n",
        "    search_text=None,\n",
        "    vector_queries= [vector_query],\n",
        "    select=[\"title\", \"content\", \"category\"],\n",
        ")\n",
        "\n",
        "for result in results:\n",
        "    print(f\"Title: {result['title']}\")\n",
        "    print(f\"Score: {result['@search.score']}\")\n",
        "    print(f\"Content: {result['content']}\")\n",
        "    print(f\"Category: {result['category']}\\n\")"
      ],
      "metadata": {
        "colab": {
          "base_uri": "https://localhost:8080/"
        },
        "id": "QouAekZzec_U",
        "outputId": "10c2a6ac-9fb8-47fd-feb7-c23a62f8b52c"
      },
      "execution_count": 12,
      "outputs": [
        {
          "output_type": "stream",
          "name": "stdout",
          "text": [
            "Title: Azure DevOps\n",
            "Score: 0.82971567\n",
            "Content: Azure DevOps is a suite of services that help you plan, build, and deploy applications. It includes Azure Boards for work item tracking, Azure Repos for source code management, Azure Pipelines for continuous integration and continuous deployment, Azure Test Plans for manual and automated testing, and Azure Artifacts for package management. DevOps supports a wide range of programming languages, frameworks, and platforms, making it easy to integrate with your existing development tools and processes. It also integrates with other Azure services, such as Azure App Service and Azure Functions.\n",
            "Category: Developer Tools\n",
            "\n",
            "Title: Azure DevTest Labs\n",
            "Score: 0.81866795\n",
            "Content: Azure DevTest Labs is a fully managed service that enables you to create, manage, and share development and test environments in Azure. It provides features like custom templates, cost management, and integration with Azure DevOps. DevTest Labs supports various platforms, such as Windows, Linux, and Kubernetes. You can use Azure DevTest Labs to improve your application development lifecycle, reduce your costs, and ensure the consistency of your environments. It also integrates with other Azure services, such as Azure Virtual Machines and Azure App Service.\n",
            "Category: Developer Tools\n",
            "\n",
            "Title: Azure Application Insights\n",
            "Score: 0.8022945\n",
            "Content: Azure Application Insights is an application performance management service that enables you to monitor, diagnose, and troubleshoot your applications and infrastructure. It provides features like real-time telemetry, dependency mapping, and live metrics. Application Insights supports various platforms, such as .NET, Java, Node.js, and Python. You can use Azure Application Insights to detect and diagnose issues, optimize your performance, and ensure the availability of your applications. It also integrates with other Azure services, such as Azure Monitor and Azure Log Analytics.\n",
            "Category: Management + Governance\n",
            "\n"
          ]
        }
      ]
    },
    {
      "cell_type": "code",
      "source": [
        "from azure.search.documents.models import VectorizableTextQuery\n",
        "\n",
        "query = \"軟體開發工具\"\n",
        "vector_query = VectorizableTextQuery(text=query, k=3, fields=\"contentVector\")\n",
        "\n",
        "results = search_client.search(\n",
        "    search_text=None,\n",
        "    vector_queries= [vector_query],\n",
        "    select=[\"title\", \"content\", \"category\"],\n",
        ")\n",
        "\n",
        "for result in results:\n",
        "    print(f\"Title: {result['title']}\")\n",
        "    print(f\"Score: {result['@search.score']}\")\n",
        "    print(f\"Content: {result['content']}\")\n",
        "    print(f\"Category: {result['category']}\\n\")"
      ],
      "metadata": {
        "colab": {
          "base_uri": "https://localhost:8080/"
        },
        "id": "kLCYxVaRgvfn",
        "outputId": "ae808e02-d864-49ec-e1b5-b1eb3a4667df"
      },
      "execution_count": 14,
      "outputs": [
        {
          "output_type": "stream",
          "name": "stdout",
          "text": [
            "Title: Azure DevOps\n",
            "Score: 0.7880139\n",
            "Content: Azure DevOps is a suite of services that help you plan, build, and deploy applications. It includes Azure Boards for work item tracking, Azure Repos for source code management, Azure Pipelines for continuous integration and continuous deployment, Azure Test Plans for manual and automated testing, and Azure Artifacts for package management. DevOps supports a wide range of programming languages, frameworks, and platforms, making it easy to integrate with your existing development tools and processes. It also integrates with other Azure services, such as Azure App Service and Azure Functions.\n",
            "Category: Developer Tools\n",
            "\n",
            "Title: Azure App Service\n",
            "Score: 0.78773326\n",
            "Content: Azure App Service is a fully managed platform for building, deploying, and scaling web apps. You can host web apps, mobile app backends, and RESTful APIs. It supports a variety of programming languages and frameworks, such as .NET, Java, Node.js, Python, and PHP. The service offers built-in auto-scaling and load balancing capabilities. It also provides integration with other Azure services, such as Azure DevOps, GitHub, and Bitbucket.\n",
            "Category: Web\n",
            "\n",
            "Title: Azure Mobile Apps\n",
            "Score: 0.78437114\n",
            "Content: Azure Mobile Apps is a mobile app development platform that enables you to build, test, deploy, and monitor your mobile applications. It provides features like offline data sync, push notifications, and user authentication. Mobile Apps supports various platforms, including iOS, Android, and Windows. You can use Mobile Apps to build cross-platform applications, integrate with other Azure services, and improve your app development lifecycle. It also integrates with other Azure services, such as Azure Notification Hubs and Azure App Service.\n",
            "Category: Mobile\n",
            "\n"
          ]
        }
      ]
    },
    {
      "cell_type": "code",
      "source": [
        "from azure.search.documents.models import VectorizableTextQuery\n",
        "\n",
        "query = \"tools for software development\"\n",
        "vector_query = VectorizableTextQuery(text=query, k=3, fields=\"contentVector\", exhaustive=True)\n",
        "\n",
        "results = search_client.search(\n",
        "    search_text=None,\n",
        "    vector_queries= [vector_query],\n",
        "    select=[\"title\", \"content\", \"category\"],\n",
        ")\n",
        "\n",
        "for result in results:\n",
        "    print(f\"Title: {result['title']}\")\n",
        "    print(f\"Score: {result['@search.score']}\")\n",
        "    print(f\"Content: {result['content']}\")\n",
        "    print(f\"Category: {result['category']}\\n\")"
      ],
      "metadata": {
        "colab": {
          "base_uri": "https://localhost:8080/"
        },
        "id": "SAC3mlDsedFY",
        "outputId": "38e8c83f-4410-4c82-c144-7545727d0aa8"
      },
      "execution_count": 16,
      "outputs": [
        {
          "output_type": "stream",
          "name": "stdout",
          "text": [
            "Title: Azure DevOps\n",
            "Score: 0.8297154\n",
            "Content: Azure DevOps is a suite of services that help you plan, build, and deploy applications. It includes Azure Boards for work item tracking, Azure Repos for source code management, Azure Pipelines for continuous integration and continuous deployment, Azure Test Plans for manual and automated testing, and Azure Artifacts for package management. DevOps supports a wide range of programming languages, frameworks, and platforms, making it easy to integrate with your existing development tools and processes. It also integrates with other Azure services, such as Azure App Service and Azure Functions.\n",
            "Category: Developer Tools\n",
            "\n",
            "Title: Azure DevTest Labs\n",
            "Score: 0.8186685\n",
            "Content: Azure DevTest Labs is a fully managed service that enables you to create, manage, and share development and test environments in Azure. It provides features like custom templates, cost management, and integration with Azure DevOps. DevTest Labs supports various platforms, such as Windows, Linux, and Kubernetes. You can use Azure DevTest Labs to improve your application development lifecycle, reduce your costs, and ensure the consistency of your environments. It also integrates with other Azure services, such as Azure Virtual Machines and Azure App Service.\n",
            "Category: Developer Tools\n",
            "\n",
            "Title: Azure Application Insights\n",
            "Score: 0.8022949\n",
            "Content: Azure Application Insights is an application performance management service that enables you to monitor, diagnose, and troubleshoot your applications and infrastructure. It provides features like real-time telemetry, dependency mapping, and live metrics. Application Insights supports various platforms, such as .NET, Java, Node.js, and Python. You can use Azure Application Insights to detect and diagnose issues, optimize your performance, and ensure the availability of your applications. It also integrates with other Azure services, such as Azure Monitor and Azure Log Analytics.\n",
            "Category: Management + Governance\n",
            "\n"
          ]
        }
      ]
    },
    {
      "cell_type": "code",
      "source": [
        "from azure.search.documents.models import VectorizableTextQuery\n",
        "\n",
        "query = \"tools for software development\"\n",
        "vector_query = VectorizableTextQuery(text=query, k=3, fields=\"titleVector, contentVector\")\n",
        "\n",
        "results = search_client.search(\n",
        "    search_text=None,\n",
        "    vector_queries=[vector_query],\n",
        "    select=[\"title\", \"content\", \"category\"]\n",
        ")\n",
        "\n",
        "for result in results:\n",
        "    print(f\"Title: {result['title']}\")\n",
        "    print(f\"Score: {result['@search.score']}\")\n",
        "    print(f\"Content: {result['content']}\")\n",
        "    print(f\"Category: {result['category']}\\n\")"
      ],
      "metadata": {
        "colab": {
          "base_uri": "https://localhost:8080/"
        },
        "id": "gFoOrCSRvRE3",
        "outputId": "1de8f57a-58f0-4b72-ae43-c10826566186"
      },
      "execution_count": 18,
      "outputs": [
        {
          "output_type": "stream",
          "name": "stdout",
          "text": [
            "Title: Azure DevOps\n",
            "Score: 0.03333333507180214\n",
            "Content: Azure DevOps is a suite of services that help you plan, build, and deploy applications. It includes Azure Boards for work item tracking, Azure Repos for source code management, Azure Pipelines for continuous integration and continuous deployment, Azure Test Plans for manual and automated testing, and Azure Artifacts for package management. DevOps supports a wide range of programming languages, frameworks, and platforms, making it easy to integrate with your existing development tools and processes. It also integrates with other Azure services, such as Azure App Service and Azure Functions.\n",
            "Category: Developer Tools\n",
            "\n",
            "Title: Azure DevTest Labs\n",
            "Score: 0.032786883413791656\n",
            "Content: Azure DevTest Labs is a fully managed service that enables you to create, manage, and share development and test environments in Azure. It provides features like custom templates, cost management, and integration with Azure DevOps. DevTest Labs supports various platforms, such as Windows, Linux, and Kubernetes. You can use Azure DevTest Labs to improve your application development lifecycle, reduce your costs, and ensure the consistency of your environments. It also integrates with other Azure services, such as Azure Virtual Machines and Azure App Service.\n",
            "Category: Developer Tools\n",
            "\n",
            "Title: Azure Application Insights\n",
            "Score: 0.016129031777381897\n",
            "Content: Azure Application Insights is an application performance management service that enables you to monitor, diagnose, and troubleshoot your applications and infrastructure. It provides features like real-time telemetry, dependency mapping, and live metrics. Application Insights supports various platforms, such as .NET, Java, Node.js, and Python. You can use Azure Application Insights to detect and diagnose issues, optimize your performance, and ensure the availability of your applications. It also integrates with other Azure services, such as Azure Monitor and Azure Log Analytics.\n",
            "Category: Management + Governance\n",
            "\n",
            "Title: Azure Static Web Apps\n",
            "Score: 0.016129031777381897\n",
            "Content: Azure Static Web Apps is a serverless hosting service that enables you to build and deploy modern web applications using static front-end technologies and serverless APIs. It provides features like custom domains, SSL certificates, and integration with Azure Functions. Static Web Apps supports various frameworks, such as React, Angular, and Vue.js. You can use Azure Static Web Apps to build and deploy your web applications, ensure high performance and security, and simplify your development workflow. It also integrates with other Azure services, such as Azure App Service and Azure CDN.\n",
            "Category: Web\n",
            "\n"
          ]
        }
      ]
    },
    {
      "cell_type": "code",
      "source": [
        "from azure.search.documents.models import VectorizableTextQuery\n",
        "\n",
        "query = \"tools for software development\"\n",
        "vector_query_1 = VectorizableTextQuery(text=query, k=3, fields=\"titleVector\")\n",
        "vector_query_2 = VectorizableTextQuery(text=query, k=3, fields=\"contentVector\")\n",
        "\n",
        "results = search_client.search(\n",
        "    search_text=None,\n",
        "    vector_queries=[vector_query_1, vector_query_2],\n",
        "    select=[\"title\", \"content\", \"category\"],\n",
        ")\n",
        "\n",
        "for result in results:\n",
        "    print(f\"Title: {result['title']}\")\n",
        "    print(f\"Score: {result['@search.score']}\")\n",
        "    print(f\"Content: {result['content']}\")\n",
        "    print(f\"Category: {result['category']}\\n\")"
      ],
      "metadata": {
        "colab": {
          "base_uri": "https://localhost:8080/"
        },
        "id": "cRNLt6sPrtiw",
        "outputId": "e7baaeca-9f8b-4fbd-a685-d65217df8826"
      },
      "execution_count": 19,
      "outputs": [
        {
          "output_type": "stream",
          "name": "stdout",
          "text": [
            "Title: Azure DevOps\n",
            "Score: 0.03333333507180214\n",
            "Content: Azure DevOps is a suite of services that help you plan, build, and deploy applications. It includes Azure Boards for work item tracking, Azure Repos for source code management, Azure Pipelines for continuous integration and continuous deployment, Azure Test Plans for manual and automated testing, and Azure Artifacts for package management. DevOps supports a wide range of programming languages, frameworks, and platforms, making it easy to integrate with your existing development tools and processes. It also integrates with other Azure services, such as Azure App Service and Azure Functions.\n",
            "Category: Developer Tools\n",
            "\n",
            "Title: Azure DevTest Labs\n",
            "Score: 0.032786883413791656\n",
            "Content: Azure DevTest Labs is a fully managed service that enables you to create, manage, and share development and test environments in Azure. It provides features like custom templates, cost management, and integration with Azure DevOps. DevTest Labs supports various platforms, such as Windows, Linux, and Kubernetes. You can use Azure DevTest Labs to improve your application development lifecycle, reduce your costs, and ensure the consistency of your environments. It also integrates with other Azure services, such as Azure Virtual Machines and Azure App Service.\n",
            "Category: Developer Tools\n",
            "\n",
            "Title: Azure Application Insights\n",
            "Score: 0.016129031777381897\n",
            "Content: Azure Application Insights is an application performance management service that enables you to monitor, diagnose, and troubleshoot your applications and infrastructure. It provides features like real-time telemetry, dependency mapping, and live metrics. Application Insights supports various platforms, such as .NET, Java, Node.js, and Python. You can use Azure Application Insights to detect and diagnose issues, optimize your performance, and ensure the availability of your applications. It also integrates with other Azure services, such as Azure Monitor and Azure Log Analytics.\n",
            "Category: Management + Governance\n",
            "\n",
            "Title: Azure Static Web Apps\n",
            "Score: 0.016129031777381897\n",
            "Content: Azure Static Web Apps is a serverless hosting service that enables you to build and deploy modern web applications using static front-end technologies and serverless APIs. It provides features like custom domains, SSL certificates, and integration with Azure Functions. Static Web Apps supports various frameworks, such as React, Angular, and Vue.js. You can use Azure Static Web Apps to build and deploy your web applications, ensure high performance and security, and simplify your development workflow. It also integrates with other Azure services, such as Azure App Service and Azure CDN.\n",
            "Category: Web\n",
            "\n"
          ]
        }
      ]
    },
    {
      "cell_type": "code",
      "source": [
        "from azure.search.documents.models import VectorizableTextQuery\n",
        "from azure.search.documents.models import VectorFilterMode\n",
        "\n",
        "query = \"tools for software development\"\n",
        "vector_query = VectorizableTextQuery(text=query, k=3, fields=\"contentVector\")\n",
        "\n",
        "results = search_client.search(\n",
        "    search_text=None,\n",
        "    vector_queries=[vector_query],\n",
        "    vector_filter_mode=VectorFilterMode.PRE_FILTER,\n",
        "    filter=\"category eq 'Developer Tools'\",\n",
        "    select=[\"title\", \"content\", \"category\"],\n",
        "    top=3\n",
        ")\n",
        "\n",
        "for result in results:\n",
        "    print(f\"Title: {result['title']}\")\n",
        "    print(f\"Score: {result['@search.score']}\")\n",
        "    print(f\"Content: {result['content']}\")\n",
        "    print(f\"Category: {result['category']}\\n\")"
      ],
      "metadata": {
        "colab": {
          "base_uri": "https://localhost:8080/"
        },
        "id": "rpbDFjvXrVmn",
        "outputId": "3bfffc5b-49b1-4a51-dbe4-23ff63bbd403"
      },
      "execution_count": 20,
      "outputs": [
        {
          "output_type": "stream",
          "name": "stdout",
          "text": [
            "Title: Azure DevOps\n",
            "Score: 0.8297154\n",
            "Content: Azure DevOps is a suite of services that help you plan, build, and deploy applications. It includes Azure Boards for work item tracking, Azure Repos for source code management, Azure Pipelines for continuous integration and continuous deployment, Azure Test Plans for manual and automated testing, and Azure Artifacts for package management. DevOps supports a wide range of programming languages, frameworks, and platforms, making it easy to integrate with your existing development tools and processes. It also integrates with other Azure services, such as Azure App Service and Azure Functions.\n",
            "Category: Developer Tools\n",
            "\n",
            "Title: Azure DevTest Labs\n",
            "Score: 0.8186685\n",
            "Content: Azure DevTest Labs is a fully managed service that enables you to create, manage, and share development and test environments in Azure. It provides features like custom templates, cost management, and integration with Azure DevOps. DevTest Labs supports various platforms, such as Windows, Linux, and Kubernetes. You can use Azure DevTest Labs to improve your application development lifecycle, reduce your costs, and ensure the consistency of your environments. It also integrates with other Azure services, such as Azure Virtual Machines and Azure App Service.\n",
            "Category: Developer Tools\n",
            "\n",
            "Title: Azure App Configuration\n",
            "Score: 0.7889983\n",
            "Content: Azure App Configuration is a fully managed configuration service that enables you to centrally manage and distribute your application settings and feature flags. It provides features like key-value storage, versioning, and access control. App Configuration supports various platforms, such as .NET, Java, Node.js, and Python. You can use Azure App Configuration to build and deploy your applications, ensure the consistency of your settings, and improve your application lifecycle. It also integrates with other Azure services, such as Azure App Service and Azure Functions.\n",
            "Category: Developer Tools\n",
            "\n"
          ]
        }
      ]
    },
    {
      "cell_type": "code",
      "source": [
        "from azure.search.documents.models import VectorizableTextQuery\n",
        "\n",
        "query = \"tools for software development\"\n",
        "vector_query = VectorizableTextQuery(text=query, k=3, fields=\"contentVector\")\n",
        "\n",
        "results = search_client.search(\n",
        "    search_text=query,\n",
        "    vector_queries=[vector_query],\n",
        "    select=[\"title\", \"content\", \"category\"],\n",
        "    top=3\n",
        ")\n",
        "\n",
        "for result in results:\n",
        "    print(f\"Title: {result['title']}\")\n",
        "    print(f\"Score: {result['@search.score']}\")\n",
        "    print(f\"Content: {result['content']}\")\n",
        "    print(f\"Category: {result['category']}\\n\")"
      ],
      "metadata": {
        "colab": {
          "base_uri": "https://localhost:8080/"
        },
        "id": "Z87wWuV96PPL",
        "outputId": "53fa846e-8ea7-44dd-c9b5-efd47181d342"
      },
      "execution_count": 22,
      "outputs": [
        {
          "output_type": "stream",
          "name": "stdout",
          "text": [
            "Title: Azure DevOps\n",
            "Score: 0.03333333507180214\n",
            "Content: Azure DevOps is a suite of services that help you plan, build, and deploy applications. It includes Azure Boards for work item tracking, Azure Repos for source code management, Azure Pipelines for continuous integration and continuous deployment, Azure Test Plans for manual and automated testing, and Azure Artifacts for package management. DevOps supports a wide range of programming languages, frameworks, and platforms, making it easy to integrate with your existing development tools and processes. It also integrates with other Azure services, such as Azure App Service and Azure Functions.\n",
            "Category: Developer Tools\n",
            "\n",
            "Title: Azure DevTest Labs\n",
            "Score: 0.032786883413791656\n",
            "Content: Azure DevTest Labs is a fully managed service that enables you to create, manage, and share development and test environments in Azure. It provides features like custom templates, cost management, and integration with Azure DevOps. DevTest Labs supports various platforms, such as Windows, Linux, and Kubernetes. You can use Azure DevTest Labs to improve your application development lifecycle, reduce your costs, and ensure the consistency of your environments. It also integrates with other Azure services, such as Azure Virtual Machines and Azure App Service.\n",
            "Category: Developer Tools\n",
            "\n",
            "Title: Azure Cache for Redis\n",
            "Score: 0.016129031777381897\n",
            "Content: Azure Cache for Redis is a fully managed, in-memory data store that enables you to build highly responsive and scalable applications. It provides features like data persistence, high availability, and automatic scaling. Cache for Redis supports various data structures, such as strings, lists, sets, and hashes. You can use Azure Cache for Redis to improve the performance of your applications, offload your databases, and reduce the latency of your data access. It also integrates with other Azure services, such as Azure App Service and Azure Kubernetes Service.\n",
            "Category: Databases\n",
            "\n"
          ]
        }
      ]
    }
  ]
}